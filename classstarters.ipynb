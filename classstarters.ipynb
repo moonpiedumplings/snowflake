{
 "cells": [
  {
   "cell_type": "code",
   "execution_count": 4,
   "metadata": {},
   "outputs": [],
   "source": [
    "# I have no idea how python classes work. Time to learn. \n",
    "\n",
    "class Dog(object):\n",
    "    def __init__(self, name):\n",
    "        self.name = name\n",
    "        self.age = 20\n",
    "        print(\"init?\")\n",
    "    def name(self):\n",
    "        return self.name\n",
    "    def bark(self):\n",
    "        print(str(self)+\" \"+self.name+\"age\"+str(self.age)+\"says Woof!\")"
   ]
  },
  {
   "cell_type": "code",
   "execution_count": 5,
   "metadata": {},
   "outputs": [
    {
     "name": "stdout",
     "output_type": "stream",
     "text": [
      "init?\n"
     ]
    },
    {
     "ename": "RecursionError",
     "evalue": "maximum recursion depth exceeded",
     "output_type": "error",
     "traceback": [
      "\u001b[0;31m---------------------------------------------------------------------------\u001b[0m",
      "\u001b[0;31mRecursionError\u001b[0m                            Traceback (most recent call last)",
      "Cell \u001b[0;32mIn[5], line 3\u001b[0m\n\u001b[1;32m      1\u001b[0m my_dog \u001b[39m=\u001b[39m Dog(\u001b[39m\"\u001b[39m\u001b[39mRufus\u001b[39m\u001b[39m\"\u001b[39m)\n\u001b[0;32m----> 3\u001b[0m \u001b[39mprint\u001b[39m(my_dog\u001b[39m.\u001b[39;49mname)\n\u001b[1;32m      5\u001b[0m \u001b[39mfor\u001b[39;00m attr_name \u001b[39min\u001b[39;00m \u001b[39mvars\u001b[39m(my_dog):\n\u001b[1;32m      6\u001b[0m     \u001b[39mprint\u001b[39m(attr_name, \u001b[39mgetattr\u001b[39m(my_dog, attr_name)) \u001b[39m# iterates through the class attributes\u001b[39;00m\n",
      "Cell \u001b[0;32mIn[4], line 10\u001b[0m, in \u001b[0;36mDog.name\u001b[0;34m(self)\u001b[0m\n\u001b[1;32m      8\u001b[0m \u001b[39m@property\u001b[39m\n\u001b[1;32m      9\u001b[0m \u001b[39mdef\u001b[39;00m \u001b[39mname\u001b[39m(\u001b[39mself\u001b[39m):\n\u001b[0;32m---> 10\u001b[0m     \u001b[39mreturn\u001b[39;00m \u001b[39mself\u001b[39;49m\u001b[39m.\u001b[39;49mname\n",
      "Cell \u001b[0;32mIn[4], line 10\u001b[0m, in \u001b[0;36mDog.name\u001b[0;34m(self)\u001b[0m\n\u001b[1;32m      8\u001b[0m \u001b[39m@property\u001b[39m\n\u001b[1;32m      9\u001b[0m \u001b[39mdef\u001b[39;00m \u001b[39mname\u001b[39m(\u001b[39mself\u001b[39m):\n\u001b[0;32m---> 10\u001b[0m     \u001b[39mreturn\u001b[39;00m \u001b[39mself\u001b[39;49m\u001b[39m.\u001b[39;49mname\n",
      "    \u001b[0;31m[... skipping similar frames: Dog.name at line 10 (2970 times)]\u001b[0m\n",
      "Cell \u001b[0;32mIn[4], line 10\u001b[0m, in \u001b[0;36mDog.name\u001b[0;34m(self)\u001b[0m\n\u001b[1;32m      8\u001b[0m \u001b[39m@property\u001b[39m\n\u001b[1;32m      9\u001b[0m \u001b[39mdef\u001b[39;00m \u001b[39mname\u001b[39m(\u001b[39mself\u001b[39m):\n\u001b[0;32m---> 10\u001b[0m     \u001b[39mreturn\u001b[39;00m \u001b[39mself\u001b[39;49m\u001b[39m.\u001b[39;49mname\n",
      "\u001b[0;31mRecursionError\u001b[0m: maximum recursion depth exceeded"
     ]
    }
   ],
   "source": [
    "my_dog = Dog(\"Rufus\")\n",
    "\n",
    "print(my_dog.name)\n",
    "\n",
    "for attr_name in vars(my_dog):\n",
    "    print(attr_name, getattr(my_dog, attr_name)) # iterates through the class attributes\n",
    "\n",
    "\n"
   ]
  },
  {
   "cell_type": "code",
   "execution_count": 1,
   "metadata": {},
   "outputs": [],
   "source": [
    "# Why even use a class? Persistent data, easier to spit out.\n",
    "\n",
    "class Container:\n",
    "    def __init__(self, ):\n",
    "        print(\"yeah?\")\n",
    "    def write(self, name, prefix, addr, passwd, hash):\n",
    "        print(\"hmm\")\n",
    "\n",
    "\n",
    "# I don't think classes are going to work. Too much state, when I intend to store all my state in the shelve dictionary, excluding what's the state of the containers themselve. "
   ]
  },
  {
   "cell_type": "code",
   "execution_count": 14,
   "metadata": {},
   "outputs": [
    {
     "data": {
      "text/plain": [
       "<bound method Shelf.close of <shelve.DbfilenameShelf object at 0x7f20290acbe0>>"
      ]
     },
     "execution_count": 14,
     "metadata": {},
     "output_type": "execute_result"
    }
   ],
   "source": [
    "import shelve\n",
    "import os\n",
    "\n",
    "os.remove(\"test\")\n",
    "\n",
    "test = shelve.open(\"test\")\n",
    "\n",
    "class yeet():\n",
    "    def __init__(self, name, fun):\n",
    "        self.name = name\n",
    "        self.fun = fun\n",
    "    def hello(self):\n",
    "        print(\"hello world\" )\n",
    "        print(self.name, self.fun)\n",
    "\n",
    "test['test'] = yeet(\"hi\", \"boo\")\n",
    "\n",
    "#test['test']\n",
    "\n",
    "test.close"
   ]
  },
  {
   "cell_type": "code",
   "execution_count": 1,
   "metadata": {},
   "outputs": [
    {
     "name": "stdout",
     "output_type": "stream",
     "text": [
      "hello world\n",
      "hi boo\n"
     ]
    },
    {
     "data": {
      "text/plain": [
       "<bound method Shelf.close of <shelve.DbfilenameShelf object at 0x7fb8945632b0>>"
      ]
     },
     "execution_count": 1,
     "metadata": {},
     "output_type": "execute_result"
    }
   ],
   "source": [
    "import shelve\n",
    "\n",
    "#def hello():\n",
    "#    print(\"hello\")\n",
    "\n",
    "class yeet():\n",
    "    def __init__(self, name, fun):\n",
    "        self.name = name\n",
    "        self.fun = fun\n",
    "    def hello(self):\n",
    "        print(\"hello world\" )\n",
    "        print(self.name, self.fun)  \n",
    "\n",
    "test = shelve.open('test')\n",
    "\n",
    "hi = 'test' # setting the dictionary key dynamically works beatifully. \n",
    "\n",
    "test[hi].hello() # Class attribute are stored persistently, let's go\n",
    "\n",
    "test.close"
   ]
  },
  {
   "cell_type": "code",
   "execution_count": 1,
   "metadata": {},
   "outputs": [
    {
     "name": "stdout",
     "output_type": "stream",
     "text": [
      "fun?\n",
      "funi\n",
      "funi\n"
     ]
    }
   ],
   "source": [
    "class sus():\n",
    "    def __init__(self, testattr):\n",
    "        print(\"fun?\")\n",
    "        self.testattr = \"funi\"\n",
    "    def hello(self):\n",
    "        print(self.testattr)\n",
    "\n",
    "notsus = sus('no')\n",
    "\n",
    "print(notsus.testattr)\n",
    "notsus.hello()"
   ]
  },
  {
   "cell_type": "code",
   "execution_count": null,
   "metadata": {},
   "outputs": [],
   "source": [
    "class SpamWithProperties(object):\n",
    "     def __init__(self):\n",
    "         self.__egg = \"MyEgg\"\n",
    "     def get_egg(self):\n",
    "         return self.__egg\n",
    "     def set_egg(self, egg):\n",
    "         self.__egg = egg\n",
    "     egg = property(get_egg, set_egg)"
   ]
  },
  {
   "cell_type": "code",
   "execution_count": null,
   "metadata": {},
   "outputs": [],
   "source": []
  },
  {
   "cell_type": "code",
   "execution_count": 9,
   "metadata": {},
   "outputs": [
    {
     "name": "stdout",
     "output_type": "stream",
     "text": [
      "[]\n",
      "[0]\n",
      "[0, 1]\n",
      "[0, 1, 2]\n",
      "[0, 1, 2, 3]\n",
      "[0, 1, 2, 3]\n",
      "3\n"
     ]
    },
    {
     "ename": "ValueError",
     "evalue": "max() arg is an empty sequence",
     "output_type": "error",
     "traceback": [
      "\u001b[0;31m---------------------------------------------------------------------------\u001b[0m",
      "\u001b[0;31mValueError\u001b[0m                                Traceback (most recent call last)",
      "Cell \u001b[0;32mIn[9], line 11\u001b[0m\n\u001b[1;32m      7\u001b[0m test_list \u001b[39m=\u001b[39m []\n\u001b[1;32m      9\u001b[0m \u001b[39mprint\u001b[39m(\u001b[39mmax\u001b[39m(with_list))\n\u001b[0;32m---> 11\u001b[0m \u001b[39mprint\u001b[39m(\u001b[39mmax\u001b[39;49m(test_list))\n",
      "\u001b[0;31mValueError\u001b[0m: max() arg is an empty sequence"
     ]
    }
   ],
   "source": [
    "for i in range(5):\n",
    "    with_list = list(range(i))\n",
    "    print(with_list)\n",
    "\n",
    "print(with_list)\n",
    "\n",
    "test_list = []\n",
    "\n",
    "print(max(with_list))\n",
    "\n",
    "print(max(test_list))\n"
   ]
  }
 ],
 "metadata": {
  "kernelspec": {
   "display_name": "Python 3",
   "language": "python",
   "name": "python3"
  },
  "language_info": {
   "codemirror_mode": {
    "name": "ipython",
    "version": 3
   },
   "file_extension": ".py",
   "mimetype": "text/x-python",
   "name": "python",
   "nbconvert_exporter": "python",
   "pygments_lexer": "ipython3",
   "version": "3.10.10"
  },
  "orig_nbformat": 4
 },
 "nbformat": 4,
 "nbformat_minor": 2
}
