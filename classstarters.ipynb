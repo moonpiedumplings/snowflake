{
 "cells": [
  {
   "cell_type": "code",
   "execution_count": 10,
   "metadata": {},
   "outputs": [],
   "source": [
    "# I have no idea how python classes work. Time to learn. \n",
    "\n",
    "class Dog:\n",
    "    def __init__(self, name, age):\n",
    "        self.name = name\n",
    "        self.age = age\n",
    "    \n",
    "    def bark(self, name, age):\n",
    "        self.name = name\n",
    "        self.age = age\n",
    "        print(name+\"age\"+str(age)+\"says Woof!\")"
   ]
  },
  {
   "cell_type": "code",
   "execution_count": 12,
   "metadata": {},
   "outputs": [
    {
     "ename": "TypeError",
     "evalue": "Dog.bark() missing 2 required positional arguments: 'name' and 'age'",
     "output_type": "error",
     "traceback": [
      "\u001b[0;31m---------------------------------------------------------------------------\u001b[0m",
      "\u001b[0;31mTypeError\u001b[0m                                 Traceback (most recent call last)",
      "\u001b[1;32m/home/moonpie/vscode/snowflake/classstarters.ipynb Cell 2\u001b[0m in \u001b[0;36m<cell line: 3>\u001b[0;34m()\u001b[0m\n\u001b[1;32m      <a href='vscode-notebook-cell:/home/moonpie/vscode/snowflake/classstarters.ipynb#W2sZmlsZQ%3D%3D?line=0'>1</a>\u001b[0m my_dog \u001b[39m=\u001b[39m Dog(\u001b[39m\"\u001b[39m\u001b[39mRufus\u001b[39m\u001b[39m\"\u001b[39m, \u001b[39m3\u001b[39m)\n\u001b[0;32m----> <a href='vscode-notebook-cell:/home/moonpie/vscode/snowflake/classstarters.ipynb#W2sZmlsZQ%3D%3D?line=2'>3</a>\u001b[0m my_dog\u001b[39m.\u001b[39;49mbark()\n",
      "\u001b[0;31mTypeError\u001b[0m: Dog.bark() missing 2 required positional arguments: 'name' and 'age'"
     ]
    }
   ],
   "source": [
    "my_dog = Dog(\"Rufus\", 3)\n",
    "\n",
    "my_dog.bark()"
   ]
  }
 ],
 "metadata": {
  "kernelspec": {
   "display_name": "Python 3",
   "language": "python",
   "name": "python3"
  },
  "language_info": {
   "codemirror_mode": {
    "name": "ipython",
    "version": 3
   },
   "file_extension": ".py",
   "mimetype": "text/x-python",
   "name": "python",
   "nbconvert_exporter": "python",
   "pygments_lexer": "ipython3",
   "version": "3.10.10"
  },
  "orig_nbformat": 4
 },
 "nbformat": 4,
 "nbformat_minor": 2
}
