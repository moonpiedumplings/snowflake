{
 "cells": [
  {
   "cell_type": "code",
   "execution_count": 10,
   "metadata": {},
   "outputs": [],
   "source": [
    "# I have no idea how python classes work. Time to learn. \n",
    "\n",
    "class Dog:\n",
    "    def __init__(self, name, age):\n",
    "        self.name = name\n",
    "        self.age = age\n",
    "        print(\"init?\")\n",
    "    def bark():\n",
    "        print(str(self)+\" \"+name+\"age\"+str(age)+\"says Woof!\")"
   ]
  },
  {
   "cell_type": "code",
   "execution_count": 11,
   "metadata": {},
   "outputs": [
    {
     "name": "stdout",
     "output_type": "stream",
     "text": [
      "init?\n",
      "Rufus\n",
      "name Rufus\n",
      "age 3\n"
     ]
    }
   ],
   "source": [
    "my_dog = Dog(\"Rufus\", 3)\n",
    "\n",
    "print(my_dog.name)\n",
    "\n",
    "for attr_name in vars(my_dog):\n",
    "    print(attr_name, getattr(my_dog, attr_name)) # iterates through the class attributes\n",
    "\n"
   ]
  },
  {
   "cell_type": "code",
   "execution_count": 20,
   "metadata": {},
   "outputs": [],
   "source": [
    "# Why even use a class? Persistent data, easier to spit out.\n",
    "\n",
    "class Container:\n",
    "    def __init__(self, ):\n",
    "        print(\"yeah?\")\n",
    "    def write(self, name, prefix, addr, passwd, hash):\n",
    "        print(\"hmm\")\n",
    "\n",
    "\n",
    "# I don't think classes are going to work. Too much state, when I intend to store all my state in the shelve dictionary, excluding what's the state of the containers themselve. "
   ]
  },
  {
   "cell_type": "code",
   "execution_count": 5,
   "metadata": {},
   "outputs": [],
   "source": [
    "import shelve\n",
    "import os\n",
    "import pickle\n",
    "\n",
    "os.remove(\"test\")\n",
    "\n",
    "test = shelve.open(\"test\")\n",
    "\n",
    "class yeet():\n",
    "    def __init__(self, name, fun):\n",
    "        self.name = name\n",
    "        self.fun = fun\n",
    "    def hello(self):\n",
    "        print(\"hello world\" )\n",
    "        print(self.name, self.fun)\n",
    "\n",
    "test['test'] = yeet(\"hi\", \"boo\")\n",
    "\n",
    "#test['test']\n",
    "\n",
    "test.close"
   ]
  },
  {
   "cell_type": "code",
   "execution_count": 4,
   "metadata": {},
   "outputs": [
    {
     "ename": "error",
     "evalue": "[Errno 11] Resource temporarily unavailable: 'test'",
     "output_type": "error",
     "traceback": [
      "\u001b[0;31m---------------------------------------------------------------------------\u001b[0m",
      "\u001b[0;31merror\u001b[0m                                     Traceback (most recent call last)",
      "\u001b[1;32m/home/moonpie/vscode/snowflake/classstarters.ipynb Cell 5\u001b[0m in \u001b[0;36m<cell line: 14>\u001b[0;34m()\u001b[0m\n\u001b[1;32m     <a href='vscode-notebook-cell:/home/moonpie/vscode/snowflake/classstarters.ipynb#W4sZmlsZQ%3D%3D?line=10'>11</a>\u001b[0m         \u001b[39mprint\u001b[39m(\u001b[39m\"\u001b[39m\u001b[39mhello world\u001b[39m\u001b[39m\"\u001b[39m )\n\u001b[1;32m     <a href='vscode-notebook-cell:/home/moonpie/vscode/snowflake/classstarters.ipynb#W4sZmlsZQ%3D%3D?line=11'>12</a>\u001b[0m         \u001b[39mprint\u001b[39m(\u001b[39mself\u001b[39m\u001b[39m.\u001b[39mname, \u001b[39mself\u001b[39m\u001b[39m.\u001b[39mfun)  \n\u001b[0;32m---> <a href='vscode-notebook-cell:/home/moonpie/vscode/snowflake/classstarters.ipynb#W4sZmlsZQ%3D%3D?line=13'>14</a>\u001b[0m test \u001b[39m=\u001b[39m shelve\u001b[39m.\u001b[39;49mopen(\u001b[39m'\u001b[39;49m\u001b[39mtest\u001b[39;49m\u001b[39m'\u001b[39;49m)\n\u001b[1;32m     <a href='vscode-notebook-cell:/home/moonpie/vscode/snowflake/classstarters.ipynb#W4sZmlsZQ%3D%3D?line=15'>16</a>\u001b[0m test[\u001b[39m'\u001b[39m\u001b[39mtest\u001b[39m\u001b[39m'\u001b[39m]\u001b[39m.\u001b[39mhello()\n",
      "File \u001b[0;32m/usr/lib/python3.10/shelve.py:243\u001b[0m, in \u001b[0;36mopen\u001b[0;34m(filename, flag, protocol, writeback)\u001b[0m\n\u001b[1;32m    230\u001b[0m \u001b[39mdef\u001b[39;00m \u001b[39mopen\u001b[39m(filename, flag\u001b[39m=\u001b[39m\u001b[39m'\u001b[39m\u001b[39mc\u001b[39m\u001b[39m'\u001b[39m, protocol\u001b[39m=\u001b[39m\u001b[39mNone\u001b[39;00m, writeback\u001b[39m=\u001b[39m\u001b[39mFalse\u001b[39;00m):\n\u001b[1;32m    231\u001b[0m     \u001b[39m\"\"\"Open a persistent dictionary for reading and writing.\u001b[39;00m\n\u001b[1;32m    232\u001b[0m \n\u001b[1;32m    233\u001b[0m \u001b[39m    The filename parameter is the base filename for the underlying\u001b[39;00m\n\u001b[0;32m   (...)\u001b[0m\n\u001b[1;32m    240\u001b[0m \u001b[39m    See the module's __doc__ string for an overview of the interface.\u001b[39;00m\n\u001b[1;32m    241\u001b[0m \u001b[39m    \"\"\"\u001b[39;00m\n\u001b[0;32m--> 243\u001b[0m     \u001b[39mreturn\u001b[39;00m DbfilenameShelf(filename, flag, protocol, writeback)\n",
      "File \u001b[0;32m/usr/lib/python3.10/shelve.py:227\u001b[0m, in \u001b[0;36mDbfilenameShelf.__init__\u001b[0;34m(self, filename, flag, protocol, writeback)\u001b[0m\n\u001b[1;32m    225\u001b[0m \u001b[39mdef\u001b[39;00m \u001b[39m__init__\u001b[39m(\u001b[39mself\u001b[39m, filename, flag\u001b[39m=\u001b[39m\u001b[39m'\u001b[39m\u001b[39mc\u001b[39m\u001b[39m'\u001b[39m, protocol\u001b[39m=\u001b[39m\u001b[39mNone\u001b[39;00m, writeback\u001b[39m=\u001b[39m\u001b[39mFalse\u001b[39;00m):\n\u001b[1;32m    226\u001b[0m     \u001b[39mimport\u001b[39;00m \u001b[39mdbm\u001b[39;00m\n\u001b[0;32m--> 227\u001b[0m     Shelf\u001b[39m.\u001b[39m\u001b[39m__init__\u001b[39m(\u001b[39mself\u001b[39m, dbm\u001b[39m.\u001b[39;49mopen(filename, flag), protocol, writeback)\n",
      "File \u001b[0;32m/usr/lib/python3.10/dbm/__init__.py:95\u001b[0m, in \u001b[0;36mopen\u001b[0;34m(file, flag, mode)\u001b[0m\n\u001b[1;32m     93\u001b[0m \u001b[39melse\u001b[39;00m:\n\u001b[1;32m     94\u001b[0m     mod \u001b[39m=\u001b[39m _modules[result]\n\u001b[0;32m---> 95\u001b[0m \u001b[39mreturn\u001b[39;00m mod\u001b[39m.\u001b[39;49mopen(file, flag, mode)\n",
      "\u001b[0;31merror\u001b[0m: [Errno 11] Resource temporarily unavailable: 'test'"
     ]
    }
   ],
   "source": [
    "import shelve\n",
    "\n",
    "#def hello():\n",
    "#    print(\"hello\")\n",
    "\n",
    "class yeet():\n",
    "    def __init__(self, name, fun):\n",
    "        self.name = name\n",
    "        self.fun = fun\n",
    "    def hello(self):\n",
    "        print(\"hello world\" )\n",
    "        print(self.name, self.fun)  \n",
    "\n",
    "test = shelve.open('test')\n",
    "\n",
    "test['test'].hello()\n",
    "\n",
    "test.close"
   ]
  },
  {
   "cell_type": "code",
   "execution_count": 33,
   "metadata": {},
   "outputs": [
    {
     "name": "stdout",
     "output_type": "stream",
     "text": [
      "fun?\n",
      "funi\n",
      "funi\n"
     ]
    }
   ],
   "source": [
    "class sus():\n",
    "    def __init__(self, testattr):\n",
    "        print(\"fun?\")\n",
    "        self.testattr = \"funi\"\n",
    "    def hello(self):\n",
    "        print(self.testattr)\n",
    "\n",
    "notsus = sus('no')\n",
    "\n",
    "print(notsus.testattr)\n",
    "notsus.hello()"
   ]
  }
 ],
 "metadata": {
  "kernelspec": {
   "display_name": "Python 3",
   "language": "python",
   "name": "python3"
  },
  "language_info": {
   "codemirror_mode": {
    "name": "ipython",
    "version": 3
   },
   "file_extension": ".py",
   "mimetype": "text/x-python",
   "name": "python",
   "nbconvert_exporter": "python",
   "pygments_lexer": "ipython3",
   "version": "3.10.10"
  },
  "orig_nbformat": 4
 },
 "nbformat": 4,
 "nbformat_minor": 2
}
