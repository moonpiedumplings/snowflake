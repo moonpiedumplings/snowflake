{
 "cells": [
  {
   "cell_type": "code",
   "execution_count": 10,
   "metadata": {},
   "outputs": [],
   "source": [
    "# I have no idea how python classes work. Time to learn. \n",
    "\n",
    "class Dog:\n",
    "    def __init__(self, name, age):\n",
    "        self.name = name\n",
    "        self.age = age\n",
    "        print(\"init?\")\n",
    "    def bark():\n",
    "        print(str(self)+\" \"+name+\"age\"+str(age)+\"says Woof!\")"
   ]
  },
  {
   "cell_type": "code",
   "execution_count": 11,
   "metadata": {},
   "outputs": [
    {
     "name": "stdout",
     "output_type": "stream",
     "text": [
      "init?\n",
      "Rufus\n",
      "name Rufus\n",
      "age 3\n"
     ]
    }
   ],
   "source": [
    "my_dog = Dog(\"Rufus\", 3)\n",
    "\n",
    "print(my_dog.name)\n",
    "\n",
    "for attr_name in vars(my_dog):\n",
    "    print(attr_name, getattr(my_dog, attr_name)) # iterates through the class attributes\n",
    "\n"
   ]
  },
  {
   "cell_type": "code",
   "execution_count": 20,
   "metadata": {},
   "outputs": [],
   "source": [
    "# Why even use a class? Persistent data, easier to spit out.\n",
    "\n",
    "class Container:\n",
    "    def __init__(self, ):\n",
    "        print(\"yeah?\")\n",
    "    def write(self, name, prefix, addr, passwd, hash):\n",
    "        print(\"hmm\")\n",
    "\n",
    "\n",
    "# I don't think classes are going to work. Too much state, when I intend to store all my state in the shelve dictionary, excluding what's the state of the containers themselve. "
   ]
  },
  {
   "cell_type": "code",
   "execution_count": 2,
   "metadata": {},
   "outputs": [
    {
     "data": {
      "text/plain": [
       "<bound method Shelf.close of <shelve.DbfilenameShelf object at 0x7f4e746f7bb0>>"
      ]
     },
     "execution_count": 2,
     "metadata": {},
     "output_type": "execute_result"
    }
   ],
   "source": [
    "import shelve\n",
    "import os\n",
    "import pickle\n",
    "\n",
    "os.remove(\"test\")\n",
    "\n",
    "test = shelve.open(\"test\")\n",
    "\n",
    "class yeet():\n",
    "    def __init__(self, name, fun):\n",
    "        self.name = name\n",
    "        self.fun = fun\n",
    "    def hello(self):\n",
    "        print(\"hello world\" )\n",
    "        print(self.name, self.fun)\n",
    "\n",
    "test['test'] = yeet(\"hi\", \"boo\")\n",
    "\n",
    "#test['test']\n",
    "\n",
    "test.close"
   ]
  },
  {
   "cell_type": "code",
   "execution_count": 1,
   "metadata": {},
   "outputs": [
    {
     "name": "stdout",
     "output_type": "stream",
     "text": [
      "hello world\n",
      "hi boo\n"
     ]
    },
    {
     "data": {
      "text/plain": [
       "<bound method Shelf.close of <shelve.DbfilenameShelf object at 0x7f20946ff700>>"
      ]
     },
     "execution_count": 1,
     "metadata": {},
     "output_type": "execute_result"
    }
   ],
   "source": [
    "import shelve\n",
    "\n",
    "#def hello():\n",
    "#    print(\"hello\")\n",
    "\n",
    "class yeet():\n",
    "    def __init__(self, name, fun):\n",
    "        self.name = name\n",
    "        self.fun = fun\n",
    "    def hello(self):\n",
    "        print(\"hello world\" )\n",
    "        print(self.name, self.fun)  \n",
    "\n",
    "test = shelve.open('test')\n",
    "\n",
    "test['test'].hello()\n",
    "\n",
    "test.close"
   ]
  },
  {
   "cell_type": "code",
   "execution_count": 24,
   "metadata": {},
   "outputs": [
    {
     "name": "stdout",
     "output_type": "stream",
     "text": [
      "fun?\n",
      "ye\n"
     ]
    }
   ],
   "source": [
    "class sus():\n",
    "    def __init__(self, testattr):\n",
    "        print(\"fun?\")\n",
    "        self.testattr = testattr\n",
    "        setattr(self, testattr, \"yeet\")\n",
    "\n",
    "notsus = sus('ye')\n",
    "\n",
    "print(notsus.testattr)\n"
   ]
  }
 ],
 "metadata": {
  "kernelspec": {
   "display_name": "Python 3",
   "language": "python",
   "name": "python3"
  },
  "language_info": {
   "codemirror_mode": {
    "name": "ipython",
    "version": 3
   },
   "file_extension": ".py",
   "mimetype": "text/x-python",
   "name": "python",
   "nbconvert_exporter": "python",
   "pygments_lexer": "ipython3",
   "version": "3.10.10"
  },
  "orig_nbformat": 4
 },
 "nbformat": 4,
 "nbformat_minor": 2
}
