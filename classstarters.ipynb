{
 "cells": [
  {
   "cell_type": "code",
   "execution_count": 2,
   "metadata": {},
   "outputs": [],
   "source": [
    "# I have no idea how python classes work. Time to learn. \n",
    "\n",
    "class Dog:\n",
    "    def __init__(self, name, age):\n",
    "        self.name = name\n",
    "        self.age = age\n",
    "        print(\"init?\")\n",
    "    def bark(self, name, age):\n",
    "        print(str(self)+\" \"+name+\"age\"+str(age)+\"says Woof!\")"
   ]
  },
  {
   "cell_type": "code",
   "execution_count": 8,
   "metadata": {},
   "outputs": [
    {
     "name": "stdout",
     "output_type": "stream",
     "text": [
      "init?\n",
      "Rufus\n",
      "name Rufus\n",
      "age 3\n"
     ]
    }
   ],
   "source": [
    "my_dog = Dog(\"Rufus\", 3)\n",
    "\n",
    "print(my_dog.name)\n",
    "\n",
    "for attr_name in vars(my_dog):\n",
    "    print(attr_name, getattr(my_dog, attr_name)) # iterates through the class attributes\n",
    "\n"
   ]
  },
  {
   "cell_type": "code",
   "execution_count": 20,
   "metadata": {},
   "outputs": [],
   "source": [
    "# Why even use a class? Persistent data, easier to spit out.\n",
    "\n",
    "class Container:\n",
    "    def __init__(self, ):\n",
    "        print(\"yeah?\")\n",
    "    def write(self, name, prefix, addr, passwd, hash):\n",
    "        print(\"hmm\")\n",
    "\n",
    "\n",
    "# I don't think classes are going to work. Too much state, when I intend to store all my state in the shelve dictionary, excluding what's the state of the containers themselve. "
   ]
  }
 ],
 "metadata": {
  "kernelspec": {
   "display_name": "Python 3",
   "language": "python",
   "name": "python3"
  },
  "language_info": {
   "codemirror_mode": {
    "name": "ipython",
    "version": 3
   },
   "file_extension": ".py",
   "mimetype": "text/x-python",
   "name": "python",
   "nbconvert_exporter": "python",
   "pygments_lexer": "ipython3",
   "version": "3.10.10"
  },
  "orig_nbformat": 4
 },
 "nbformat": 4,
 "nbformat_minor": 2
}
