{
 "cells": [
  {
   "attachments": {},
   "cell_type": "markdown",
   "metadata": {},
   "source": [
    "These are the beginnings of snowflake, a browser based way to access linux containers. I want minimal dependencies, for maximal easy maintenence. "
   ]
  },
  {
   "cell_type": "code",
   "execution_count": 2,
   "metadata": {},
   "outputs": [
    {
     "ename": "error",
     "evalue": "[Errno 11] Resource temporarily unavailable: 'addr'",
     "output_type": "error",
     "traceback": [
      "\u001b[0;31m---------------------------------------------------------------------------\u001b[0m",
      "\u001b[0;31merror\u001b[0m                                     Traceback (most recent call last)",
      "\u001b[1;32m/home/moonpie/vscode/snowflake/starters.ipynb Cell 2\u001b[0m in \u001b[0;36m<cell line: 5>\u001b[0;34m()\u001b[0m\n\u001b[1;32m      <a href='vscode-notebook-cell:/home/moonpie/vscode/snowflake/starters.ipynb#W1sZmlsZQ%3D%3D?line=0'>1</a>\u001b[0m \u001b[39m# First, I need a way to store used ip addresses, to avoid conflicts. \u001b[39;00m\n\u001b[1;32m      <a href='vscode-notebook-cell:/home/moonpie/vscode/snowflake/starters.ipynb#W1sZmlsZQ%3D%3D?line=2'>3</a>\u001b[0m \u001b[39mimport\u001b[39;00m \u001b[39mshelve\u001b[39;00m \u001b[39m# I just need a key value store that is more secure than a dictionary stored entirely in ram\u001b[39;00m\n\u001b[0;32m----> <a href='vscode-notebook-cell:/home/moonpie/vscode/snowflake/starters.ipynb#W1sZmlsZQ%3D%3D?line=4'>5</a>\u001b[0m addr \u001b[39m=\u001b[39m shelve\u001b[39m.\u001b[39;49mopen(\u001b[39m'\u001b[39;49m\u001b[39maddr\u001b[39;49m\u001b[39m'\u001b[39;49m, writeback\u001b[39m=\u001b[39;49m\u001b[39mFalse\u001b[39;49;00m) \u001b[39m# creates persistent, extremely lightweight database\u001b[39;00m\n\u001b[1;32m      <a href='vscode-notebook-cell:/home/moonpie/vscode/snowflake/starters.ipynb#W1sZmlsZQ%3D%3D?line=6'>7</a>\u001b[0m addr[\u001b[39m'\u001b[39m\u001b[39mdata\u001b[39m\u001b[39m'\u001b[39m] \u001b[39m=\u001b[39m {\u001b[39m'\u001b[39m\u001b[39mone\u001b[39m\u001b[39m'\u001b[39m:\u001b[39m1\u001b[39m, \u001b[39m'\u001b[39m\u001b[39mtwo\u001b[39m\u001b[39m'\u001b[39m: \u001b[39m2\u001b[39m}\n\u001b[1;32m      <a href='vscode-notebook-cell:/home/moonpie/vscode/snowflake/starters.ipynb#W1sZmlsZQ%3D%3D?line=8'>9</a>\u001b[0m addr[\u001b[39m'\u001b[39m\u001b[39mdata2\u001b[39m\u001b[39m'\u001b[39m] \u001b[39m=\u001b[39m {\u001b[39m'\u001b[39m\u001b[39mone\u001b[39m\u001b[39m'\u001b[39m:\u001b[39m1\u001b[39m, \u001b[39m'\u001b[39m\u001b[39mtwo\u001b[39m\u001b[39m'\u001b[39m: \u001b[39m2\u001b[39m}\n",
      "File \u001b[0;32m/usr/lib/python3.10/shelve.py:243\u001b[0m, in \u001b[0;36mopen\u001b[0;34m(filename, flag, protocol, writeback)\u001b[0m\n\u001b[1;32m    230\u001b[0m \u001b[39mdef\u001b[39;00m \u001b[39mopen\u001b[39m(filename, flag\u001b[39m=\u001b[39m\u001b[39m'\u001b[39m\u001b[39mc\u001b[39m\u001b[39m'\u001b[39m, protocol\u001b[39m=\u001b[39m\u001b[39mNone\u001b[39;00m, writeback\u001b[39m=\u001b[39m\u001b[39mFalse\u001b[39;00m):\n\u001b[1;32m    231\u001b[0m     \u001b[39m\"\"\"Open a persistent dictionary for reading and writing.\u001b[39;00m\n\u001b[1;32m    232\u001b[0m \n\u001b[1;32m    233\u001b[0m \u001b[39m    The filename parameter is the base filename for the underlying\u001b[39;00m\n\u001b[0;32m   (...)\u001b[0m\n\u001b[1;32m    240\u001b[0m \u001b[39m    See the module's __doc__ string for an overview of the interface.\u001b[39;00m\n\u001b[1;32m    241\u001b[0m \u001b[39m    \"\"\"\u001b[39;00m\n\u001b[0;32m--> 243\u001b[0m     \u001b[39mreturn\u001b[39;00m DbfilenameShelf(filename, flag, protocol, writeback)\n",
      "File \u001b[0;32m/usr/lib/python3.10/shelve.py:227\u001b[0m, in \u001b[0;36mDbfilenameShelf.__init__\u001b[0;34m(self, filename, flag, protocol, writeback)\u001b[0m\n\u001b[1;32m    225\u001b[0m \u001b[39mdef\u001b[39;00m \u001b[39m__init__\u001b[39m(\u001b[39mself\u001b[39m, filename, flag\u001b[39m=\u001b[39m\u001b[39m'\u001b[39m\u001b[39mc\u001b[39m\u001b[39m'\u001b[39m, protocol\u001b[39m=\u001b[39m\u001b[39mNone\u001b[39;00m, writeback\u001b[39m=\u001b[39m\u001b[39mFalse\u001b[39;00m):\n\u001b[1;32m    226\u001b[0m     \u001b[39mimport\u001b[39;00m \u001b[39mdbm\u001b[39;00m\n\u001b[0;32m--> 227\u001b[0m     Shelf\u001b[39m.\u001b[39m\u001b[39m__init__\u001b[39m(\u001b[39mself\u001b[39m, dbm\u001b[39m.\u001b[39;49mopen(filename, flag), protocol, writeback)\n",
      "File \u001b[0;32m/usr/lib/python3.10/dbm/__init__.py:95\u001b[0m, in \u001b[0;36mopen\u001b[0;34m(file, flag, mode)\u001b[0m\n\u001b[1;32m     93\u001b[0m \u001b[39melse\u001b[39;00m:\n\u001b[1;32m     94\u001b[0m     mod \u001b[39m=\u001b[39m _modules[result]\n\u001b[0;32m---> 95\u001b[0m \u001b[39mreturn\u001b[39;00m mod\u001b[39m.\u001b[39;49mopen(file, flag, mode)\n",
      "\u001b[0;31merror\u001b[0m: [Errno 11] Resource temporarily unavailable: 'addr'"
     ]
    }
   ],
   "source": [
    "# First, I need a way to store used ip addresses, to avoid conflicts. \n",
    "\n",
    "import shelve # I just need a key value store that is more secure than a dictionary stored entirely in ram\n",
    "\n",
    "addr = shelve.open('addr', writeback=False) # creates persistent, extremely lightweight database\n",
    "\n",
    "addr['data'] = {'one':1, 'two': 2}\n",
    "\n",
    "addr['data2'] = {'one':1, 'two': 2}\n",
    "\n",
    "print(addr['data']['one'])\n",
    "\n",
    "#addr.close \n",
    "\n",
    "# Works beatifully, but jupyter notebooks breaks it. Lmao\n",
    "\n",
    "# I can iterate through this dictionary with:\n",
    "\n",
    "for key in addr:\n",
    "    print(key, addr[key])\n",
    "print(addr)\n",
    "\n",
    "# So addr appears to be a dictionary, with key value pairs. It cannot be reliably iterated through. I'm thinking a  dictionary with the name of the container,\n",
    "# and relevant values to build the container inside. \n",
    "\n",
    "addr.close\n",
    "\n"
   ]
  },
  {
   "cell_type": "code",
   "execution_count": null,
   "metadata": {},
   "outputs": [],
   "source": [
    "# I might need a way to get ip addressed, but I think I can simply use above code to store used ones, and avoid conflict"
   ]
  },
  {
   "cell_type": "code",
   "execution_count": null,
   "metadata": {},
   "outputs": [],
   "source": [
    "# Now, I need a way to generate the relevant data for the containers. I will use nix's fromJSON feature to get the data from JSON files generated by python\n",
    "\n",
    "import json\n",
    "\n",
    "\n",
    "\n",
    "\n"
   ]
  },
  {
   "cell_type": "code",
   "execution_count": 17,
   "metadata": {},
   "outputs": [],
   "source": [
    "# Actually I have a better Idea. I will use nixs ability to evaluate pure functions and the import feature of nix, which imports text files.\n",
    "\n",
    "import os\n",
    "\n",
    "exampleVar = 1\n",
    "\n",
    "with open(\"test\", \"w\") as test:\n",
    "    test.write(str(exampleVar))\n",
    "\n",
    "# this file can then be evaluated with nix's import function\n",
    "\n",
    "# this gives me a way to set IP addressed. But I still have no way to set variable names dynamically. \n"
   ]
  },
  {
   "attachments": {},
   "cell_type": "markdown",
   "metadata": {},
   "source": [
    "Okay, here are the nix functions I probably need:\n",
    "\n",
    "${builtins.readFile ./somefile}\" = 4 # readfile, to get file contents as a string, and assign them to a name\n",
    "\n",
    "import ./somefile # evaluates a nix expression\n",
    "\n",
    "toString # converts expression or something to string"
   ]
  },
  {
   "attachments": {},
   "cell_type": "markdown",
   "metadata": {},
   "source": [
    "I think it will be something like:\n",
    "\n",
    "{\n",
    "    containers.${builtins.readFile ./name} = {\n",
    "        stuff, but ip address is important\n",
    "\n",
    "        ip addr preset\n",
    "        ip address = \"preset,readfile\"\n",
    "    }\n",
    "\n",
    "    stuff, but packages is important\n",
    "    I think I have to import the package list from json? Actually, I don't think that will work as json only takes x: y as valid input. \n",
    "}"
   ]
  },
  {
   "cell_type": "code",
   "execution_count": null,
   "metadata": {},
   "outputs": [],
   "source": [
    "import shelve \n",
    "\n",
    "cont = shelve.open('cont')\n",
    "\n"
   ]
  }
 ],
 "metadata": {
  "kernelspec": {
   "display_name": "Python 3",
   "language": "python",
   "name": "python3"
  },
  "language_info": {
   "codemirror_mode": {
    "name": "ipython",
    "version": 3
   },
   "file_extension": ".py",
   "mimetype": "text/x-python",
   "name": "python",
   "nbconvert_exporter": "python",
   "pygments_lexer": "ipython3",
   "version": "3.10.10"
  },
  "orig_nbformat": 4,
  "vscode": {
   "interpreter": {
    "hash": "e7370f93d1d0cde622a1f8e1c04877d8463912d04d973331ad4851f04de6915a"
   }
  }
 },
 "nbformat": 4,
 "nbformat_minor": 2
}
